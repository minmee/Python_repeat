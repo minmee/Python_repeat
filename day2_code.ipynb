{
 "cells": [
  {
   "cell_type": "markdown",
   "metadata": {},
   "source": [
    "# CH01 연습문제"
   ]
  },
  {
   "cell_type": "code",
   "execution_count": 1,
   "metadata": {},
   "outputs": [
    {
     "name": "stdout",
     "output_type": "stream",
     "text": [
      "1989 07 24\n"
     ]
    }
   ],
   "source": [
    "# 1번 문제\n",
    "data = '890724'\n",
    "year = '19' + data[:2]\n",
    "month = data[2:4]\n",
    "day = data[4:]\n",
    "\n",
    "print(year, month, day)"
   ]
  },
  {
   "cell_type": "code",
   "execution_count": 2,
   "metadata": {},
   "outputs": [
    {
     "name": "stdout",
     "output_type": "stream",
     "text": [
      "2021-12-09\n"
     ]
    }
   ],
   "source": [
    "# 2번 문제\n",
    "data = '20211209'\n",
    "\n",
    "result = data[:4] + '-' + data[4:6] + '-' + data[6:]\n",
    "print(result)"
   ]
  },
  {
   "cell_type": "code",
   "execution_count": 3,
   "metadata": {},
   "outputs": [
    {
     "data": {
      "text/plain": [
       "'01012345678'"
      ]
     },
     "execution_count": 3,
     "metadata": {},
     "output_type": "execute_result"
    }
   ],
   "source": [
    "# 3번 문제\n",
    "data = '010-1234-5678'\n",
    "data.replace('-','')"
   ]
  },
  {
   "cell_type": "code",
   "execution_count": 5,
   "metadata": {},
   "outputs": [
    {
     "data": {
      "text/plain": [
       "'01012345678'"
      ]
     },
     "execution_count": 5,
     "metadata": {},
     "output_type": "execute_result"
    }
   ],
   "source": [
    "data = '010-1234-5678'\n",
    "data2 = data.split('-')\n",
    "data3 = ''.join(data2)\n",
    "data3"
   ]
  },
  {
   "cell_type": "code",
   "execution_count": 7,
   "metadata": {},
   "outputs": [
    {
     "data": {
      "text/plain": [
       "'daily essentials regreshing toner reviews'"
      ]
     },
     "execution_count": 7,
     "metadata": {},
     "output_type": "execute_result"
    }
   ],
   "source": [
    "# 4번 문제\n",
    "name = 'Daily ESSENTIALS REGRESHING TONER REVIEWS'\n",
    "name.lower()"
   ]
  },
  {
   "cell_type": "code",
   "execution_count": 14,
   "metadata": {},
   "outputs": [
    {
     "name": "stdout",
     "output_type": "stream",
     "text": [
      "한글 단어를 입력해주세요: 하나\n",
      "one\n"
     ]
    }
   ],
   "source": [
    "# 5번 문제\n",
    "word = input('한글 단어를 입력해주세요: ')\n",
    "dic1 = {'하나':'one','둘':'two','셋':'three','넷':'four','다섯':'five','여섯':'six','일곱':'seven',\n",
    "       '여덟':'eight','아홉':'nine','열':'ten'}\n",
    "\n",
    "print(dic1[word])"
   ]
  },
  {
   "cell_type": "code",
   "execution_count": 15,
   "metadata": {},
   "outputs": [
    {
     "name": "stdout",
     "output_type": "stream",
     "text": [
      "{1, 2, 3, 4, 5, 6, 7, 8, 9}\n"
     ]
    }
   ],
   "source": [
    "# 6번 문제\n",
    "list1 = [1,1,1,1,2,2,6,9,3,4,5,6,7,8,9]\n",
    "s1 = set(list1)\n",
    "print(s1)"
   ]
  },
  {
   "cell_type": "code",
   "execution_count": 17,
   "metadata": {},
   "outputs": [
    {
     "name": "stdout",
     "output_type": "stream",
     "text": [
      "값을 입력해주세요: 10\n",
      "314.0\n"
     ]
    }
   ],
   "source": [
    "# 7번 문제\n",
    "r = int(input('값을 입력해주세요: '))\n",
    "result = 3.14*(r**2)\n",
    "print(result)"
   ]
  },
  {
   "cell_type": "code",
   "execution_count": 18,
   "metadata": {},
   "outputs": [
    {
     "name": "stdout",
     "output_type": "stream",
     "text": [
      "값을 입력해주세요: 10\n"
     ]
    },
    {
     "data": {
      "text/plain": [
       "190"
      ]
     },
     "execution_count": 18,
     "metadata": {},
     "output_type": "execute_result"
    }
   ],
   "source": [
    "# 8번 문제\n",
    "x = int(input('값을 입력해주세요: '))\n",
    "\n",
    "y1 = (x**2) - x + 100\n",
    "y1"
   ]
  },
  {
   "cell_type": "code",
   "execution_count": 19,
   "metadata": {},
   "outputs": [
    {
     "data": {
      "text/plain": [
       "45"
      ]
     },
     "execution_count": 19,
     "metadata": {},
     "output_type": "execute_result"
    }
   ],
   "source": [
    "y2 = 2*x + 25\n",
    "y2"
   ]
  },
  {
   "cell_type": "code",
   "execution_count": 20,
   "metadata": {},
   "outputs": [
    {
     "data": {
      "text/plain": [
       "11.0"
      ]
     },
     "execution_count": 20,
     "metadata": {},
     "output_type": "execute_result"
    }
   ],
   "source": [
    "y3 = (x**2 + x) / x\n",
    "y3"
   ]
  },
  {
   "cell_type": "markdown",
   "metadata": {},
   "source": [
    "비교연사자는 TRUE, FALSE (BOOL)"
   ]
  },
  {
   "cell_type": "code",
   "execution_count": 24,
   "metadata": {},
   "outputs": [
    {
     "name": "stdout",
     "output_type": "stream",
     "text": [
      "태어난 연도를 입력해 주세요 :2021\n",
      "축(소띠)\n"
     ]
    }
   ],
   "source": [
    "bir = int(input(\"태어난 연도를 입력해 주세요 :\"))\n",
    "\n",
    "dic = {bir%12==0:'신(원숭이)', bir%12==1:'유(닭)', bir%12==2:'술(개)',\n",
    "       bir%12==3:'해(돼지)', bir%12==4:'자(쥐)', bir%12==5:'축(소띠)',\n",
    "       bir%12==6:'인(범)', bir%12==7:'묘(토끼)', bir%12==8:'진(용)',\n",
    "      bir%12==9:'사(뱀)', bir%12==10:'오(말)', bir%12==11:'미(양)'}\n",
    "\n",
    "print(dic[True])"
   ]
  },
  {
   "cell_type": "code",
   "execution_count": 22,
   "metadata": {},
   "outputs": [
    {
     "name": "stdout",
     "output_type": "stream",
     "text": [
      "태어난 연도를 입력해 주세요 :2021\n",
      "소\n"
     ]
    }
   ],
   "source": [
    "#9번 문제\n",
    "bir = int(input(\"태어난 연도를 입력해 주세요 :\"))\n",
    "\n",
    "num = bir%12\n",
    "dic2 = {0:'원숭이', 1:'닭', 2:'개', 3:'돼지', 4:'쥐', 5:'소', 6:'범', 7:'토끼', 8: '용',\n",
    "       9:'뱀', 10:'말', 11:'양'}\n",
    "\n",
    "print(dic2[num])"
   ]
  },
  {
   "cell_type": "code",
   "execution_count": 25,
   "metadata": {},
   "outputs": [
    {
     "name": "stdout",
     "output_type": "stream",
     "text": [
      "미터를 입력해주세요: 10\n",
      "변환된 마일은:  0.00621 입니다.\n"
     ]
    }
   ],
   "source": [
    "#10번 문제\n",
    "m = int(input('미터를 입력해주세요: '))\n",
    "mile = m*(0.000621)\n",
    "\n",
    "print('변환된 마일은: ', mile,'입니다.')"
   ]
  },
  {
   "cell_type": "code",
   "execution_count": 26,
   "metadata": {},
   "outputs": [
    {
     "name": "stdout",
     "output_type": "stream",
     "text": [
      "화씨온도를 입력해주세요:10\n",
      "-12.222222222222221\n"
     ]
    }
   ],
   "source": [
    "# 11번 문제\n",
    "fa = int(input('화씨온도를 입력해주세요:'))\n",
    "print((fa-32)/1.8)"
   ]
  },
  {
   "cell_type": "code",
   "execution_count": 27,
   "metadata": {},
   "outputs": [
    {
     "name": "stdout",
     "output_type": "stream",
     "text": [
      "반지름을 입력해주세요: 10\n",
      "높이를 입력해주세요: 10\n",
      "3140.0\n"
     ]
    }
   ],
   "source": [
    "# 12번 문제\n",
    "r = int(input('반지름을 입력해주세요: '))\n",
    "h = int(input('높이를 입력해주세요: '))\n",
    "\n",
    "print((r**2)*3.14*h)"
   ]
  },
  {
   "cell_type": "code",
   "execution_count": 36,
   "metadata": {},
   "outputs": [
    {
     "name": "stdout",
     "output_type": "stream",
     "text": [
      "문자 두개를 입력해주세요: 10,20\n"
     ]
    }
   ],
   "source": [
    "r, h = input('문자 두개를 입력해주세요: ').split(',')\n",
    "r = int(r)\n",
    "h = int(h)"
   ]
  },
  {
   "cell_type": "code",
   "execution_count": 39,
   "metadata": {},
   "outputs": [
    {
     "name": "stdout",
     "output_type": "stream",
     "text": [
      "상품금액과 지불금액을 입력해주세요: 240 1000\n",
      "거스름돈은:  760 원이며, 500원은 1 개이고, 100원은 2 개이고, 50원은 1 개이고, 10원은 1 개 이다.\n"
     ]
    }
   ],
   "source": [
    "# 상품가격과 지불 금액을 입력받아서 거스름돈을 최소화 하도록 해보자.\n",
    "price, payment = input('상품금액과 지불금액을 입력해주세요: ').split()\n",
    "price = int(price)\n",
    "payment = int(payment)\n",
    "\n",
    "charge = payment - price\n",
    "\n",
    "ch1 = charge//500\n",
    "charge2 = charge - ch1*500\n",
    "ch2 = charge2//100\n",
    "charge3 = charge2 - ch2*100\n",
    "ch3 = charge3//50\n",
    "charge4 = charge3 - ch3*50\n",
    "ch4 = charge4//10\n",
    "\n",
    "print('거스름돈은: ', charge,'원이며, 500원은', ch1,'개이고, 100원은', ch2,'개이고, 50원은', \n",
    "      ch3,'개이고, 10원은', ch4,'개 이다.')"
   ]
  },
  {
   "cell_type": "markdown",
   "metadata": {},
   "source": [
    "# IF 조건문"
   ]
  },
  {
   "cell_type": "code",
   "execution_count": 41,
   "metadata": {},
   "outputs": [
    {
     "name": "stdout",
     "output_type": "stream",
     "text": [
      "바나나를 사라\n"
     ]
    }
   ],
   "source": [
    "money = False\n",
    "\n",
    "if money:\n",
    "    print('사과를 사라')\n",
    "else:\n",
    "    print('바나나를 사라')"
   ]
  },
  {
   "cell_type": "markdown",
   "metadata": {},
   "source": [
    "만약 8,000원 이상의 돈을 갖고 있으면 사과를 사고 그렇지 않으면 바나나를 사라"
   ]
  },
  {
   "cell_type": "code",
   "execution_count": 43,
   "metadata": {},
   "outputs": [
    {
     "name": "stdout",
     "output_type": "stream",
     "text": [
      "갖고 있는 돈을 입력해주세요: 10000\n",
      "사과를 사라\n"
     ]
    }
   ],
   "source": [
    "money = int(input('갖고 있는 돈을 입력해주세요: '))\n",
    "\n",
    "if money >= 8000:\n",
    "    print('사과를 사라')\n",
    "else:\n",
    "    print('바나나를 사라')"
   ]
  },
  {
   "cell_type": "markdown",
   "metadata": {},
   "source": [
    "정수를 입력받아보고, 이 정수가 홀수인지 짝수인지 출력"
   ]
  },
  {
   "cell_type": "code",
   "execution_count": 44,
   "metadata": {},
   "outputs": [
    {
     "name": "stdout",
     "output_type": "stream",
     "text": [
      "정수를 입력해주세요: 13\n",
      "홀수입니다.\n"
     ]
    }
   ],
   "source": [
    "number = int(input('정수를 입력해주세요: '))\n",
    "\n",
    "if number % 2 ==0:\n",
    "    print('짝수입니다.')\n",
    "else:\n",
    "    print('홀수입니다.')"
   ]
  },
  {
   "cell_type": "markdown",
   "metadata": {},
   "source": [
    "## 비교연산자\n",
    " - bool형태(True, False)\n",
    " - '>=', '<=', '==', '!='"
   ]
  },
  {
   "cell_type": "markdown",
   "metadata": {},
   "source": [
    "## 논리연산자\n",
    " - and / or\n",
    " - x or y: x와 y 둘 중에 하나만 참이여도 참 (부호: |)\n",
    " - x and y: x와 y 모두 참이여야 참 (부호: &)"
   ]
  },
  {
   "cell_type": "markdown",
   "metadata": {},
   "source": [
    "> 돈이 8000원 이상 있거나 카드가 있으면 사과를 사고, 그렇지 않으면 바나나를 구매하자"
   ]
  },
  {
   "cell_type": "code",
   "execution_count": 49,
   "metadata": {},
   "outputs": [
    {
     "name": "stdout",
     "output_type": "stream",
     "text": [
      "바나나를 사라\n"
     ]
    }
   ],
   "source": [
    "money = 5000\n",
    "card = True\n",
    "\n",
    "if money >= 8000 and card:\n",
    "    print('사과를 사라')\n",
    "else:\n",
    "    print('바나나를 사라')"
   ]
  },
  {
   "cell_type": "code",
   "execution_count": 50,
   "metadata": {},
   "outputs": [
    {
     "name": "stdout",
     "output_type": "stream",
     "text": [
      "채소를 사라\n"
     ]
    }
   ],
   "source": [
    "# 다중조건: elif\n",
    "pocket = ['pen', 'phone']\n",
    "card = True\n",
    "\n",
    "if 'money' in pocket:\n",
    "    print('과일을 사라')\n",
    "elif card:\n",
    "    print('채소를 사라')\n",
    "else:\n",
    "    print('그냥 가라')"
   ]
  },
  {
   "cell_type": "markdown",
   "metadata": {},
   "source": [
    "# ELIF구문 예시\n",
    "1. 점수를 입력받아 보자.\n",
    "2. 점수에 따라서 학점을 부여해봅시다(95이상: A+, 90이상: A, 85이상: B+, 80이상: B. 나머지는 C+)"
   ]
  },
  {
   "cell_type": "code",
   "execution_count": 52,
   "metadata": {},
   "outputs": [
    {
     "name": "stdout",
     "output_type": "stream",
     "text": [
      "점수를 입력해주세요: 80\n",
      "B0 입니다.\n"
     ]
    }
   ],
   "source": [
    "score = int(input('점수를 입력해주세요: '))\n",
    "\n",
    "if score >= 95:\n",
    "    print('A+ 입니다.')\n",
    "elif score >= 90:\n",
    "    print('A0 입니다.')\n",
    "elif score >= 85:\n",
    "    print('B+ 입니다.')\n",
    "elif score >= 80:\n",
    "    print('B0 입니다.')\n",
    "else:\n",
    "    print('C+ 입니다.')"
   ]
  },
  {
   "cell_type": "code",
   "execution_count": 7,
   "metadata": {},
   "outputs": [
    {
     "name": "stdout",
     "output_type": "stream",
     "text": [
      "hi python\n",
      "hi python\n",
      "hi python\n",
      "hi python\n",
      "hi python\n"
     ]
    }
   ],
   "source": [
    "# while 반복문 예시\n",
    "i = 0\n",
    "\n",
    "while i <5:\n",
    "    print('hi python')\n",
    "    i = i+1"
   ]
  },
  {
   "cell_type": "markdown",
   "metadata": {},
   "source": [
    "while문을 사용해서 1부터 10까지 합계"
   ]
  },
  {
   "cell_type": "code",
   "execution_count": 13,
   "metadata": {},
   "outputs": [],
   "source": [
    "i = 0\n",
    "sum = 0\n",
    "\n",
    "while i < 10:\n",
    "    i = i+1\n",
    "    sum = sum + i"
   ]
  },
  {
   "cell_type": "code",
   "execution_count": 14,
   "metadata": {},
   "outputs": [
    {
     "name": "stdout",
     "output_type": "stream",
     "text": [
      "55\n"
     ]
    }
   ],
   "source": [
    "print(sum)"
   ]
  },
  {
   "cell_type": "markdown",
   "metadata": {},
   "source": [
    "10까지 숫자 중에서 홀수만을 출력해봅시다."
   ]
  },
  {
   "cell_type": "code",
   "execution_count": 17,
   "metadata": {},
   "outputs": [
    {
     "name": "stdout",
     "output_type": "stream",
     "text": [
      "1 3 5 7 9 "
     ]
    }
   ],
   "source": [
    "i = 0\n",
    "while i <10:\n",
    "    i = i + 1\n",
    "    if i % 2 == 1:\n",
    "        print(i, end = ' ')"
   ]
  },
  {
   "cell_type": "code",
   "execution_count": 18,
   "metadata": {
    "collapsed": true
   },
   "outputs": [
    {
     "name": "stdout",
     "output_type": "stream",
     "text": [
      "돈을 받고 계란을 준다.\n",
      "남은 계란은 4개 입니다.\n",
      "돈을 받고 계란을 준다.\n",
      "남은 계란은 3개 입니다.\n",
      "돈을 받고 계란을 준다.\n",
      "남은 계란은 2개 입니다.\n",
      "돈을 받고 계란을 준다.\n",
      "남은 계란은 1개 입니다.\n",
      "돈을 받고 계란을 준다.\n",
      "남은 계란은 0개 입니다.\n",
      "계란이 없습니다.\n"
     ]
    }
   ],
   "source": [
    "egg = 5\n",
    "money = 500\n",
    "\n",
    "while money:\n",
    "    print('돈을 받고 계란을 준다.')\n",
    "    egg = egg-1\n",
    "    print('남은 계란은 %d개 입니다.'% egg)\n",
    "    if egg == 0:\n",
    "        print('계란이 없습니다.')\n",
    "        break"
   ]
  },
  {
   "cell_type": "code",
   "execution_count": 20,
   "metadata": {},
   "outputs": [
    {
     "name": "stdout",
     "output_type": "stream",
     "text": [
      "1 3 5 7 9 "
     ]
    }
   ],
   "source": [
    "a = 0\n",
    "while a< 10:\n",
    "    a = a+1\n",
    "    if a % 2 == 0:\n",
    "        continue\n",
    "    print(a, end = ' ')"
   ]
  },
  {
   "cell_type": "markdown",
   "metadata": {},
   "source": [
    "# FOR문\n",
    " - for문은 지정된 횟수만큼 반복\n",
    " - if문과 같이 쓰이며 업무자동화"
   ]
  },
  {
   "cell_type": "code",
   "execution_count": 22,
   "metadata": {},
   "outputs": [
    {
     "name": "stdout",
     "output_type": "stream",
     "text": [
      "one\n",
      "two\n",
      "three\n"
     ]
    }
   ],
   "source": [
    "test_list = ['one','two','three']\n",
    "for i in test_list:\n",
    "    print(i)"
   ]
  },
  {
   "cell_type": "markdown",
   "metadata": {},
   "source": [
    "개별 데이터가 60이상일 때 합격 메시지를 출력하고 60 미만인 경우 불합격 통보"
   ]
  },
  {
   "cell_type": "code",
   "execution_count": 25,
   "metadata": {
    "collapsed": true
   },
   "outputs": [
    {
     "name": "stdout",
     "output_type": "stream",
     "text": [
      "1번은 합격입니다.\n",
      "2번은 합격입니다.\n",
      "3번은 합격입니다.\n",
      "4번은 불합격입니다.\n",
      "5번은 합격입니다.\n",
      "6번은 합격입니다.\n",
      "7번은 불합격입니다.\n",
      "8번은 합격입니다.\n",
      "9번은 불합격입니다.\n"
     ]
    }
   ],
   "source": [
    "dat = [80,60,70,40,70,80,40,60,40]\n",
    "num = 0\n",
    "\n",
    "for i in dat:\n",
    "    num = num + 1\n",
    "    if i >= 60:\n",
    "        print('%d번은 합격입니다.'%num)\n",
    "    else:\n",
    "        print('%d번은 불합격입니다.'%num)"
   ]
  },
  {
   "cell_type": "code",
   "execution_count": 26,
   "metadata": {},
   "outputs": [
    {
     "data": {
      "text/plain": [
       "80.0"
      ]
     },
     "execution_count": 26,
     "metadata": {},
     "output_type": "execute_result"
    }
   ],
   "source": [
    "import numpy as np\n",
    "dat = [80,60,70,90,100]\n",
    "\n",
    "arr = np.array(dat)\n",
    "arr.mean()"
   ]
  },
  {
   "cell_type": "markdown",
   "metadata": {},
   "source": [
    "정수를 입력받아서 구구단을 출력하는 프로그램 for문과 while문 두개로 진행해볼게요!"
   ]
  },
  {
   "cell_type": "code",
   "execution_count": 29,
   "metadata": {},
   "outputs": [
    {
     "name": "stdout",
     "output_type": "stream",
     "text": [
      "정수를 입력해주세요: 8\n",
      "8 x 1 = 8\n",
      "8 x 2 = 16\n",
      "8 x 3 = 24\n",
      "8 x 4 = 32\n",
      "8 x 5 = 40\n",
      "8 x 6 = 48\n",
      "8 x 7 = 56\n",
      "8 x 8 = 64\n",
      "8 x 9 = 72\n"
     ]
    }
   ],
   "source": [
    "# while문\n",
    "\n",
    "number = int(input('정수를 입력해주세요: ')) # number = 8\n",
    "i = 0\n",
    "\n",
    "while i < 9:\n",
    "    i = i+1\n",
    "    print('%d x %d = %d' %(number, i, number*i))"
   ]
  },
  {
   "cell_type": "code",
   "execution_count": 32,
   "metadata": {
    "collapsed": true
   },
   "outputs": [
    {
     "name": "stdout",
     "output_type": "stream",
     "text": [
      "8 x 1 = 8\n",
      "8 x 2 = 16\n",
      "8 x 3 = 24\n",
      "8 x 4 = 32\n",
      "8 x 5 = 40\n",
      "8 x 6 = 48\n",
      "8 x 7 = 56\n",
      "8 x 8 = 64\n",
      "8 x 9 = 72\n"
     ]
    }
   ],
   "source": [
    "# for문\n",
    "for i in range(1,10):\n",
    "    print('%d x %d = %d' %(number, i, number*i))"
   ]
  },
  {
   "cell_type": "code",
   "execution_count": 37,
   "metadata": {
    "collapsed": true
   },
   "outputs": [
    {
     "name": "stdout",
     "output_type": "stream",
     "text": [
      "8 x 1 = 8\n",
      "8 x 2 = 16\n",
      "8 x 3 = 24\n",
      "8 x 4 = 32\n",
      "8 x 5 = 40\n",
      "8 x 6 = 48\n",
      "8 x 7 = 56\n",
      "8 x 8 = 64\n",
      "8 x 9 = 72\n"
     ]
    }
   ],
   "source": [
    "for data in range(1,10):\n",
    "    m = data*number\n",
    "    print(number, 'x', data,'=', m)"
   ]
  },
  {
   "cell_type": "markdown",
   "metadata": {},
   "source": [
    "# 함수"
   ]
  },
  {
   "cell_type": "code",
   "execution_count": 38,
   "metadata": {},
   "outputs": [
    {
     "name": "stdout",
     "output_type": "stream",
     "text": [
      "7\n"
     ]
    }
   ],
   "source": [
    "def add(a,b):\n",
    "    return a+b\n",
    "\n",
    "print(add(3,4))"
   ]
  },
  {
   "cell_type": "markdown",
   "metadata": {},
   "source": [
    "- 일반적인 함수(입력값, 결과값 o)\n",
    "- 입력값이 없는 함수\n",
    "- 결과값이 없는 함수\n",
    "- 입력값도 결과값도 없는 함수"
   ]
  },
  {
   "cell_type": "code",
   "execution_count": 39,
   "metadata": {},
   "outputs": [
    {
     "name": "stdout",
     "output_type": "stream",
     "text": [
      "8\n"
     ]
    }
   ],
   "source": [
    "# 일반적인 함수\n",
    "def add(a,b): # 매개변수가 존재하기 때문에 입력값이 존재함\n",
    "    result = a+b\n",
    "    return result # return을 통해 결과값을 보여주기 때문에 결과값도 존재함\n",
    "\n",
    "print(add(3,5))"
   ]
  },
  {
   "cell_type": "code",
   "execution_count": 40,
   "metadata": {},
   "outputs": [
    {
     "name": "stdout",
     "output_type": "stream",
     "text": [
      "Hi\n"
     ]
    }
   ],
   "source": [
    "# 입력값이 없는 함수 호출\n",
    "def say():\n",
    "    return 'Hi'\n",
    "\n",
    "a = say()\n",
    "print(a)"
   ]
  },
  {
   "cell_type": "code",
   "execution_count": 41,
   "metadata": {},
   "outputs": [],
   "source": [
    "# 리턴값이 없는 함수 호출\n",
    "def add(a,b):\n",
    "    print('%d, %d의 합은 %d입니다.'%(a,b,a+b))"
   ]
  },
  {
   "cell_type": "code",
   "execution_count": 43,
   "metadata": {},
   "outputs": [
    {
     "name": "stdout",
     "output_type": "stream",
     "text": [
      "3, 4의 합은 7입니다.\n",
      "None\n"
     ]
    }
   ],
   "source": [
    "a = add(3,4)\n",
    "print(a)"
   ]
  },
  {
   "cell_type": "code",
   "execution_count": 52,
   "metadata": {},
   "outputs": [
    {
     "name": "stdout",
     "output_type": "stream",
     "text": [
      "Hi\n"
     ]
    }
   ],
   "source": [
    "# 입력값도 결과값(리턴값)도 없는 함수\n",
    "def say():\n",
    "    print('Hi')\n",
    "    \n",
    "b = say()"
   ]
  },
  {
   "cell_type": "code",
   "execution_count": 53,
   "metadata": {},
   "outputs": [],
   "source": [
    "b"
   ]
  },
  {
   "cell_type": "markdown",
   "metadata": {},
   "source": [
    "return\n",
    "- 함수를 종료시키고 호출한 곳으로 돌아가게 함\n",
    "- return 어떠한 객체로 변환 가능"
   ]
  },
  {
   "cell_type": "code",
   "execution_count": 54,
   "metadata": {},
   "outputs": [
    {
     "data": {
      "text/plain": [
       "(2, 1)"
      ]
     },
     "execution_count": 54,
     "metadata": {},
     "output_type": "execute_result"
    }
   ],
   "source": [
    "def swap(x,y):\n",
    "    return y, x\n",
    "\n",
    "swap(1,2)"
   ]
  },
  {
   "cell_type": "code",
   "execution_count": 55,
   "metadata": {},
   "outputs": [],
   "source": [
    "def printuser(name, age = 18):\n",
    "    print('이름: ' + name)\n",
    "    print('나이: ' + str(age))\n",
    "    return"
   ]
  },
  {
   "cell_type": "code",
   "execution_count": 56,
   "metadata": {},
   "outputs": [
    {
     "name": "stdout",
     "output_type": "stream",
     "text": [
      "이름: 홍길도\n",
      "나이: 55\n"
     ]
    }
   ],
   "source": [
    "printuser('홍길도', 55)"
   ]
  },
  {
   "cell_type": "code",
   "execution_count": 57,
   "metadata": {},
   "outputs": [
    {
     "name": "stdout",
     "output_type": "stream",
     "text": [
      "이름: 정종우\n",
      "나이: 18\n"
     ]
    }
   ],
   "source": [
    "printuser('정종우')"
   ]
  },
  {
   "cell_type": "code",
   "execution_count": 58,
   "metadata": {},
   "outputs": [
    {
     "name": "stdout",
     "output_type": "stream",
     "text": [
      "9\n"
     ]
    }
   ],
   "source": [
    "# 일반함수\n",
    "def add(v1,v2):\n",
    "    return v1+v2\n",
    "sum = add(4,5)\n",
    "print(sum)"
   ]
  },
  {
   "cell_type": "code",
   "execution_count": 60,
   "metadata": {},
   "outputs": [
    {
     "name": "stdout",
     "output_type": "stream",
     "text": [
      "9\n"
     ]
    }
   ],
   "source": [
    "# 익명함수\n",
    "add2 = lambda v1, v2: v1+v2\n",
    "sum = add2(4,5)\n",
    "print(sum)"
   ]
  },
  {
   "cell_type": "code",
   "execution_count": 61,
   "metadata": {},
   "outputs": [
    {
     "name": "stdout",
     "output_type": "stream",
     "text": [
      "화씨온도를 입력해주세요: 20\n",
      "-6.666666666666667\n"
     ]
    }
   ],
   "source": [
    "def FtoC(a):\n",
    "    a = (5*(a - 32)) / 9\n",
    "    return a\n",
    "\n",
    "temp_f = float(input('화씨온도를 입력해주세요: '))\n",
    "\n",
    "print(FtoC(temp_f))"
   ]
  },
  {
   "cell_type": "markdown",
   "metadata": {},
   "source": [
    "# 연습문제 풀이"
   ]
  },
  {
   "cell_type": "code",
   "execution_count": 62,
   "metadata": {},
   "outputs": [
    {
     "name": "stdout",
     "output_type": "stream",
     "text": [
      "정수를 입력해주세요: 10\n",
      "양수입니다.\n"
     ]
    }
   ],
   "source": [
    "# 1번 문제\n",
    "a = int(input('정수를 입력해주세요: '))\n",
    "\n",
    "if a >0:\n",
    "    print('양수입니다.')\n",
    "elif a <0:\n",
    "    print('음수입니다.')\n",
    "else:\n",
    "    print('0입니다.')"
   ]
  },
  {
   "cell_type": "code",
   "execution_count": 64,
   "metadata": {},
   "outputs": [
    {
     "name": "stdout",
     "output_type": "stream",
     "text": [
      "값을 입력해주세요: 4\n",
      "짝수입니다.\n"
     ]
    }
   ],
   "source": [
    "num = int(input('값을 입력해주세요: '))\n",
    "if num % 2 == 0:\n",
    "    print('짝수입니다.')\n",
    "else:\n",
    "    print('홀수입니다.')"
   ]
  },
  {
   "cell_type": "code",
   "execution_count": 65,
   "metadata": {},
   "outputs": [
    {
     "name": "stdout",
     "output_type": "stream",
     "text": [
      "값을 입력해주세요: 5\n",
      "3의 배수x\n"
     ]
    }
   ],
   "source": [
    "num = int(input('값을 입력해주세요: '))\n",
    "if num % 3 == 0:\n",
    "    print('3의 배수')\n",
    "else:\n",
    "    print('3의 배수x')"
   ]
  },
  {
   "cell_type": "code",
   "execution_count": 66,
   "metadata": {},
   "outputs": [
    {
     "name": "stdout",
     "output_type": "stream",
     "text": [
      "5760.0\n"
     ]
    }
   ],
   "source": [
    "sales_amount = [5500,5300,6700,5500,5800]\n",
    "\n",
    "total = 0\n",
    "\n",
    "for i in sales_amount:\n",
    "    total = total + i # total += i\n",
    "    \n",
    "avg_amount = total/len(sales_amount)\n",
    "print(avg_amount)"
   ]
  },
  {
   "cell_type": "code",
   "execution_count": 69,
   "metadata": {},
   "outputs": [
    {
     "name": "stdout",
     "output_type": "stream",
     "text": [
      "정수를 입력해주세요: 15\n",
      "1 3 5 15 "
     ]
    }
   ],
   "source": [
    "num = int(input('정수를 입력해주세요: '))\n",
    "for n in range(1, num+1):\n",
    "    if num%n == 0 :\n",
    "        print(n, end = ' ')"
   ]
  },
  {
   "cell_type": "code",
   "execution_count": 72,
   "metadata": {},
   "outputs": [
    {
     "name": "stdout",
     "output_type": "stream",
     "text": [
      "1000\n"
     ]
    }
   ],
   "source": [
    "list_1 = [1,24,3,44,1000,2,0,74]\n",
    "\n",
    "num = len(list_1)\n",
    "maximum = list_1[0]\n",
    "\n",
    "for i in range(1, num):\n",
    "    if list_1[i] > maximum:\n",
    "        maximum = list_1[i]\n",
    "\n",
    "print(maximum)"
   ]
  },
  {
   "cell_type": "code",
   "execution_count": 76,
   "metadata": {},
   "outputs": [
    {
     "data": {
      "text/plain": [
       "8"
      ]
     },
     "execution_count": 76,
     "metadata": {},
     "output_type": "execute_result"
    }
   ],
   "source": [
    "list_1 = [1,24,3,44,1000,2,0,74]\n",
    "a = len(list_1)\n",
    "a"
   ]
  },
  {
   "cell_type": "code",
   "execution_count": 80,
   "metadata": {},
   "outputs": [],
   "source": [
    "def avg_numbers(*aaa):\n",
    "    result = 0\n",
    "    for i in aaa:\n",
    "        result += i\n",
    "    return result / len(aaa)"
   ]
  },
  {
   "cell_type": "code",
   "execution_count": 81,
   "metadata": {},
   "outputs": [
    {
     "data": {
      "text/plain": [
       "4.222222222222222"
      ]
     },
     "execution_count": 81,
     "metadata": {},
     "output_type": "execute_result"
    }
   ],
   "source": [
    "avg_numbers(1,3,4,5,5,5,5,5,5)"
   ]
  },
  {
   "cell_type": "code",
   "execution_count": 82,
   "metadata": {},
   "outputs": [],
   "source": [
    "def calculation(data1, data2):\n",
    "    print('합: ', data1+data2)\n",
    "    print('차: ', data1-data2)\n",
    "    print('곱: ', data1*data2)\n",
    "    print('나눗셈: ', data1/data2)"
   ]
  },
  {
   "cell_type": "code",
   "execution_count": 83,
   "metadata": {},
   "outputs": [
    {
     "name": "stdout",
     "output_type": "stream",
     "text": [
      "합:  15\n",
      "차:  9\n",
      "곱:  36\n",
      "나눗셈:  4.0\n"
     ]
    }
   ],
   "source": [
    "calculation(12,3)"
   ]
  },
  {
   "cell_type": "code",
   "execution_count": null,
   "metadata": {},
   "outputs": [],
   "source": []
  }
 ],
 "metadata": {
  "kernelspec": {
   "display_name": "Python 3",
   "language": "python",
   "name": "python3"
  }
 },
 "nbformat": 4,
 "nbformat_minor": 4
}
