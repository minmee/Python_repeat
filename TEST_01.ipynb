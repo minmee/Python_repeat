{
 "cells": [
  {
   "cell_type": "markdown",
   "metadata": {},
   "source": [
    "# CH01"
   ]
  },
  {
   "cell_type": "markdown",
   "metadata": {},
   "source": [
    "Q0. 데이터 분석에 가장 기초적으로 필요한 라이브러리 두 가지 호출(Numpy, Pandas)"
   ]
  },
  {
   "cell_type": "code",
   "execution_count": 1,
   "metadata": {},
   "outputs": [],
   "source": []
  },
  {
   "cell_type": "markdown",
   "metadata": {},
   "source": [
    "Q1. 어떤 회원이 생년월일 입력란에 930913를 입력하였을 때, 해당 문자을 연/월/일로 각각 나누어 출력하기."
   ]
  },
  {
   "cell_type": "code",
   "execution_count": 2,
   "metadata": {},
   "outputs": [
    {
     "data": {
      "text/plain": [
       "('1993', '09', '13')"
      ]
     },
     "execution_count": 2,
     "metadata": {},
     "output_type": "execute_result"
    }
   ],
   "source": []
  },
  {
   "cell_type": "markdown",
   "metadata": {},
   "source": [
    "Q2. 매장의 물품 명단 중 하나가 'DAILY ESSENTIALS REFRESHING TONER REVIEWS' 로 되어있을 때, 해당 품명을 소문자로 바꾸기."
   ]
  },
  {
   "cell_type": "code",
   "execution_count": 3,
   "metadata": {},
   "outputs": [
    {
     "data": {
      "text/plain": [
       "'daily essentials refreshing toner reviews'"
      ]
     },
     "execution_count": 3,
     "metadata": {},
     "output_type": "execute_result"
    }
   ],
   "source": []
  },
  {
   "cell_type": "markdown",
   "metadata": {},
   "source": [
    "Q3. 간단한 영한 사전 만들기  \n",
    "- 1부터 10까지 영어를 입력하면 한글로 출력되는 프로그램  \n",
    "- input 함수를 이용해서 값을 입력 받을 수 있음\n",
    "- key-value pair 형태로 프로그램을 제작해볼 것"
   ]
  },
  {
   "cell_type": "code",
   "execution_count": 4,
   "metadata": {},
   "outputs": [
    {
     "name": "stdout",
     "output_type": "stream",
     "text": [
      "단어를 입력하시오: 둘\n",
      "two\n"
     ]
    }
   ],
   "source": []
  },
  {
   "cell_type": "markdown",
   "metadata": {},
   "source": [
    "Q4. 아래의 리스트(list)를 선언하고, 중복 값을 제거하여 출력해보기.\n",
    "- sample_list = [1,1,1,1,1,1,2,3,4,5,6,7,7,8,9,10]"
   ]
  },
  {
   "cell_type": "code",
   "execution_count": 6,
   "metadata": {},
   "outputs": [
    {
     "name": "stdout",
     "output_type": "stream",
     "text": [
      "{1, 2, 3, 4, 5, 6, 7, 8, 9, 10}\n"
     ]
    }
   ],
   "source": []
  },
  {
   "cell_type": "markdown",
   "metadata": {},
   "source": [
    "Q5. 값을 입력 받아 원의 넓이를 구하는 프로그램 만들기\n",
    "- input 함수를 이용해서 값을 입력 받을 수 있음\n",
    "- 입력 받은 변수를 활용해서 계산식을 세우기"
   ]
  },
  {
   "cell_type": "code",
   "execution_count": 7,
   "metadata": {},
   "outputs": [
    {
     "name": "stdout",
     "output_type": "stream",
     "text": [
      "값을 입력해주세요: 10\n"
     ]
    },
    {
     "data": {
      "text/plain": [
       "314.0"
      ]
     },
     "execution_count": 7,
     "metadata": {},
     "output_type": "execute_result"
    }
   ],
   "source": []
  },
  {
   "cell_type": "markdown",
   "metadata": {},
   "source": [
    "Q6. 금액을 입력했을 때, 상품 가격에 따른 잔돈을 반환하는 자판기 프로그램 만들기\n",
    "- 금액과 상품가격을 input 함수로 선언\n",
    "- 잔돈은 500,100,50,10원 단위로 반환\n",
    "- 잔돈은 가장 큰 금액부터 반환"
   ]
  },
  {
   "cell_type": "code",
   "execution_count": 8,
   "metadata": {},
   "outputs": [
    {
     "name": "stdout",
     "output_type": "stream",
     "text": [
      "값을 입력하세요: 4300\n",
      "지불 액을 입력하세요: 5000\n",
      "거스름돈은:  700 원이며, 500원 1 원이며, 100원 2 원이며, 50원 0 개, 10원 0 개 입니다.\n"
     ]
    }
   ],
   "source": []
  },
  {
   "cell_type": "markdown",
   "metadata": {},
   "source": [
    "# CH02"
   ]
  },
  {
   "cell_type": "markdown",
   "metadata": {},
   "source": [
    "Q1. 값을 입력 받아 홀수인지 짝수인지 판별하는 프로그램 만들기"
   ]
  },
  {
   "cell_type": "code",
   "execution_count": 9,
   "metadata": {},
   "outputs": [
    {
     "name": "stdout",
     "output_type": "stream",
     "text": [
      "정수를 입력해주세요: 23\n",
      "홀수입니다.\n"
     ]
    }
   ],
   "source": []
  },
  {
   "cell_type": "markdown",
   "metadata": {},
   "source": [
    "Q2. A부서의 월 매출이 아래와 같을 때, for문을 이용하여, A부서의 평균 월 매출 계산\n",
    "- list와 for문을 이용해서 계산\n",
    "- 1월: 5500, 2월: 5300, 3월: 6700, 4월: 5500, 5월: 5800"
   ]
  },
  {
   "cell_type": "code",
   "execution_count": 10,
   "metadata": {},
   "outputs": [
    {
     "name": "stdout",
     "output_type": "stream",
     "text": [
      "5760.0\n"
     ]
    }
   ],
   "source": []
  },
  {
   "cell_type": "markdown",
   "metadata": {},
   "source": [
    "Q3. for문과 if문을 이용하여, 아래의 리스트의 최댓값을 구하는 프로그램 제작\n",
    "- sample = [10,20,4,3,6,8,44,2,50,4,1,0]"
   ]
  },
  {
   "cell_type": "code",
   "execution_count": 14,
   "metadata": {},
   "outputs": [
    {
     "data": {
      "text/plain": [
       "50"
      ]
     },
     "execution_count": 14,
     "metadata": {},
     "output_type": "execute_result"
    }
   ],
   "source": []
  },
  {
   "cell_type": "markdown",
   "metadata": {},
   "source": [
    "Q4. 입력하는 모든 수의 평균을 계산하는 함수 만들기\n",
    "- 입력 개수에 상관없이 사용하기 위해, 함수 입력 값 자리에, *args를 사용함(ex. def mean(*args))"
   ]
  },
  {
   "cell_type": "code",
   "execution_count": 16,
   "metadata": {},
   "outputs": [
    {
     "data": {
      "text/plain": [
       "3.0"
      ]
     },
     "execution_count": 16,
     "metadata": {},
     "output_type": "execute_result"
    }
   ],
   "source": []
  },
  {
   "cell_type": "markdown",
   "metadata": {},
   "source": [
    "Q5. Series를 이용하여 아래와 같은 성적표를 만들고, 만들어진 성적표를 for 문을 이용해 성적만 차례대로 출력하기"
   ]
  },
  {
   "cell_type": "code",
   "execution_count": 29,
   "metadata": {
    "scrolled": true
   },
   "outputs": [
    {
     "data": {
      "text/plain": [
       "국어    70\n",
       "영어    30\n",
       "수학    80\n",
       "과학    90\n",
       "Name: 성적표, dtype: int64"
      ]
     },
     "execution_count": 29,
     "metadata": {},
     "output_type": "execute_result"
    }
   ],
   "source": []
  },
  {
   "cell_type": "markdown",
   "metadata": {},
   "source": [
    "Q6. Series를 이용하여 만든 위의 성적표 활용하기\n",
    "- 각 과목의 합격/불합격 여부 출력하기(50점 이상, 합격)\n",
    "- 과목의 전체 평균을 계산하여, 70점 기준으로 합격, 불합격 여부 판별"
   ]
  },
  {
   "cell_type": "code",
   "execution_count": 18,
   "metadata": {},
   "outputs": [
    {
     "name": "stdout",
     "output_type": "stream",
     "text": [
      "합격\n",
      "불합격\n",
      "합격\n",
      "합격\n"
     ]
    }
   ],
   "source": []
  },
  {
   "cell_type": "code",
   "execution_count": 19,
   "metadata": {},
   "outputs": [
    {
     "name": "stdout",
     "output_type": "stream",
     "text": [
      "불합격\n"
     ]
    }
   ],
   "source": []
  },
  {
   "cell_type": "markdown",
   "metadata": {},
   "source": [
    "# CH03 & CH04"
   ]
  },
  {
   "cell_type": "markdown",
   "metadata": {},
   "source": [
    "Q0. 시각화 라이브러리 불러오기.(깨짐현상 방지 코드 포함)_(PASS)"
   ]
  },
  {
   "cell_type": "code",
   "execution_count": 20,
   "metadata": {},
   "outputs": [],
   "source": []
  },
  {
   "cell_type": "markdown",
   "metadata": {},
   "source": [
    "Q1. Pandas 라이브러리를 호출하고 예제 데이터 (store_market_data.csv)를 불러와 상위 10개와 하위 10개 데이터를 확인하기"
   ]
  },
  {
   "cell_type": "code",
   "execution_count": 22,
   "metadata": {
    "collapsed": true
   },
   "outputs": [
    {
     "data": {
      "text/html": [
       "<div>\n",
       "<style scoped>\n",
       "    .dataframe tbody tr th:only-of-type {\n",
       "        vertical-align: middle;\n",
       "    }\n",
       "\n",
       "    .dataframe tbody tr th {\n",
       "        vertical-align: top;\n",
       "    }\n",
       "\n",
       "    .dataframe thead th {\n",
       "        text-align: right;\n",
       "    }\n",
       "</style>\n",
       "<table border=\"1\" class=\"dataframe\">\n",
       "  <thead>\n",
       "    <tr style=\"text-align: right;\">\n",
       "      <th></th>\n",
       "      <th>공급일자</th>\n",
       "      <th>요일</th>\n",
       "      <th>공급월</th>\n",
       "      <th>공급주차</th>\n",
       "      <th>회원번호</th>\n",
       "      <th>조합원상태</th>\n",
       "      <th>물품대분류</th>\n",
       "      <th>물품중분류</th>\n",
       "      <th>물품소분류</th>\n",
       "      <th>물품명</th>\n",
       "      <th>구매수량</th>\n",
       "      <th>주소-구</th>\n",
       "      <th>주소-동</th>\n",
       "      <th>성별</th>\n",
       "      <th>연령</th>\n",
       "      <th>연령대</th>\n",
       "      <th>구매금액</th>\n",
       "      <th>구매매장</th>\n",
       "      <th>반품_원거래일자</th>\n",
       "      <th>구매시각</th>\n",
       "    </tr>\n",
       "  </thead>\n",
       "  <tbody>\n",
       "    <tr>\n",
       "      <th>0</th>\n",
       "      <td>2018-01-02</td>\n",
       "      <td>화</td>\n",
       "      <td>1</td>\n",
       "      <td>1</td>\n",
       "      <td>272369856</td>\n",
       "      <td>정상회원</td>\n",
       "      <td>과실</td>\n",
       "      <td>과일</td>\n",
       "      <td>사과</td>\n",
       "      <td>사과/유(1.5kg)</td>\n",
       "      <td>1.0</td>\n",
       "      <td>수지구</td>\n",
       "      <td>풍덕천동</td>\n",
       "      <td>여</td>\n",
       "      <td>45.0</td>\n",
       "      <td>40대</td>\n",
       "      <td>22207</td>\n",
       "      <td>매장C</td>\n",
       "      <td>NaN</td>\n",
       "      <td>10:04</td>\n",
       "    </tr>\n",
       "    <tr>\n",
       "      <th>1</th>\n",
       "      <td>2018-01-02</td>\n",
       "      <td>화</td>\n",
       "      <td>1</td>\n",
       "      <td>1</td>\n",
       "      <td>1506656256</td>\n",
       "      <td>정상회원</td>\n",
       "      <td>채소</td>\n",
       "      <td>버섯</td>\n",
       "      <td>느타리버섯</td>\n",
       "      <td>느타리버섯(300g)</td>\n",
       "      <td>1.0</td>\n",
       "      <td>수지구</td>\n",
       "      <td>풍덕천동</td>\n",
       "      <td>여</td>\n",
       "      <td>36.0</td>\n",
       "      <td>30대이하</td>\n",
       "      <td>4977</td>\n",
       "      <td>매장C</td>\n",
       "      <td>NaN</td>\n",
       "      <td>10:05</td>\n",
       "    </tr>\n",
       "    <tr>\n",
       "      <th>2</th>\n",
       "      <td>2018-01-02</td>\n",
       "      <td>화</td>\n",
       "      <td>1</td>\n",
       "      <td>1</td>\n",
       "      <td>1506656256</td>\n",
       "      <td>정상회원</td>\n",
       "      <td>축산물</td>\n",
       "      <td>알</td>\n",
       "      <td>유정란</td>\n",
       "      <td>유정란/매장용(10알/국내산)</td>\n",
       "      <td>1.0</td>\n",
       "      <td>수지구</td>\n",
       "      <td>풍덕천동</td>\n",
       "      <td>여</td>\n",
       "      <td>36.0</td>\n",
       "      <td>30대이하</td>\n",
       "      <td>7083</td>\n",
       "      <td>매장C</td>\n",
       "      <td>NaN</td>\n",
       "      <td>10:05</td>\n",
       "    </tr>\n",
       "    <tr>\n",
       "      <th>3</th>\n",
       "      <td>2018-01-02</td>\n",
       "      <td>화</td>\n",
       "      <td>1</td>\n",
       "      <td>1</td>\n",
       "      <td>1023108864</td>\n",
       "      <td>정상회원</td>\n",
       "      <td>반찬</td>\n",
       "      <td>두부/유부</td>\n",
       "      <td>두부</td>\n",
       "      <td>연두부(100g)</td>\n",
       "      <td>1.0</td>\n",
       "      <td>수지구</td>\n",
       "      <td>풍덕천동</td>\n",
       "      <td>여</td>\n",
       "      <td>36.0</td>\n",
       "      <td>30대이하</td>\n",
       "      <td>766</td>\n",
       "      <td>매장C</td>\n",
       "      <td>NaN</td>\n",
       "      <td>10:08</td>\n",
       "    </tr>\n",
       "    <tr>\n",
       "      <th>4</th>\n",
       "      <td>2018-01-02</td>\n",
       "      <td>화</td>\n",
       "      <td>1</td>\n",
       "      <td>1</td>\n",
       "      <td>1476143616</td>\n",
       "      <td>정상회원</td>\n",
       "      <td>간식</td>\n",
       "      <td>빵</td>\n",
       "      <td>식빵, 식사대용</td>\n",
       "      <td>아침빵(240g/8개)/매장</td>\n",
       "      <td>1.0</td>\n",
       "      <td>수지구</td>\n",
       "      <td>풍덕천동</td>\n",
       "      <td>여</td>\n",
       "      <td>34.0</td>\n",
       "      <td>30대이하</td>\n",
       "      <td>4403</td>\n",
       "      <td>매장C</td>\n",
       "      <td>NaN</td>\n",
       "      <td>10:09</td>\n",
       "    </tr>\n",
       "    <tr>\n",
       "      <th>5</th>\n",
       "      <td>2018-01-02</td>\n",
       "      <td>화</td>\n",
       "      <td>1</td>\n",
       "      <td>1</td>\n",
       "      <td>716128320</td>\n",
       "      <td>정상회원</td>\n",
       "      <td>축산물</td>\n",
       "      <td>알</td>\n",
       "      <td>유정란</td>\n",
       "      <td>유정란/매장용(10알/국내산)</td>\n",
       "      <td>1.0</td>\n",
       "      <td>수지구</td>\n",
       "      <td>풍덕천동</td>\n",
       "      <td>여</td>\n",
       "      <td>51.0</td>\n",
       "      <td>50대</td>\n",
       "      <td>7083</td>\n",
       "      <td>매장C</td>\n",
       "      <td>NaN</td>\n",
       "      <td>10:10</td>\n",
       "    </tr>\n",
       "    <tr>\n",
       "      <th>6</th>\n",
       "      <td>2018-01-02</td>\n",
       "      <td>화</td>\n",
       "      <td>1</td>\n",
       "      <td>1</td>\n",
       "      <td>743192512</td>\n",
       "      <td>정상회원</td>\n",
       "      <td>채소</td>\n",
       "      <td>과일채소</td>\n",
       "      <td>딸기</td>\n",
       "      <td>딸기/(500g)</td>\n",
       "      <td>1.0</td>\n",
       "      <td>수지구</td>\n",
       "      <td>성복동</td>\n",
       "      <td>여</td>\n",
       "      <td>51.0</td>\n",
       "      <td>50대</td>\n",
       "      <td>17038</td>\n",
       "      <td>매장C</td>\n",
       "      <td>NaN</td>\n",
       "      <td>10:12</td>\n",
       "    </tr>\n",
       "    <tr>\n",
       "      <th>7</th>\n",
       "      <td>2018-01-02</td>\n",
       "      <td>화</td>\n",
       "      <td>1</td>\n",
       "      <td>1</td>\n",
       "      <td>743192512</td>\n",
       "      <td>정상회원</td>\n",
       "      <td>채소</td>\n",
       "      <td>잎/줄기채소</td>\n",
       "      <td>어린잎채소</td>\n",
       "      <td>어린잎채소(100g)</td>\n",
       "      <td>2.0</td>\n",
       "      <td>수지구</td>\n",
       "      <td>성복동</td>\n",
       "      <td>여</td>\n",
       "      <td>51.0</td>\n",
       "      <td>50대</td>\n",
       "      <td>11104</td>\n",
       "      <td>매장C</td>\n",
       "      <td>NaN</td>\n",
       "      <td>10:12</td>\n",
       "    </tr>\n",
       "    <tr>\n",
       "      <th>8</th>\n",
       "      <td>2018-01-02</td>\n",
       "      <td>화</td>\n",
       "      <td>1</td>\n",
       "      <td>1</td>\n",
       "      <td>743192512</td>\n",
       "      <td>정상회원</td>\n",
       "      <td>채소</td>\n",
       "      <td>양념채소</td>\n",
       "      <td>생강</td>\n",
       "      <td>생강(300g)</td>\n",
       "      <td>1.0</td>\n",
       "      <td>수지구</td>\n",
       "      <td>성복동</td>\n",
       "      <td>여</td>\n",
       "      <td>51.0</td>\n",
       "      <td>50대</td>\n",
       "      <td>7083</td>\n",
       "      <td>매장C</td>\n",
       "      <td>NaN</td>\n",
       "      <td>10:12</td>\n",
       "    </tr>\n",
       "    <tr>\n",
       "      <th>9</th>\n",
       "      <td>2018-01-02</td>\n",
       "      <td>화</td>\n",
       "      <td>1</td>\n",
       "      <td>1</td>\n",
       "      <td>743192512</td>\n",
       "      <td>정상회원</td>\n",
       "      <td>채소</td>\n",
       "      <td>쌈채소류</td>\n",
       "      <td>쌈케일</td>\n",
       "      <td>쌈케일(150g)</td>\n",
       "      <td>1.0</td>\n",
       "      <td>수지구</td>\n",
       "      <td>성복동</td>\n",
       "      <td>여</td>\n",
       "      <td>51.0</td>\n",
       "      <td>50대</td>\n",
       "      <td>2584</td>\n",
       "      <td>매장C</td>\n",
       "      <td>NaN</td>\n",
       "      <td>10:12</td>\n",
       "    </tr>\n",
       "  </tbody>\n",
       "</table>\n",
       "</div>"
      ],
      "text/plain": [
       "         공급일자 요일  공급월  공급주차        회원번호 조합원상태 물품대분류   물품중분류     물품소분류  \\\n",
       "0  2018-01-02  화    1     1   272369856  정상회원    과실      과일        사과   \n",
       "1  2018-01-02  화    1     1  1506656256  정상회원    채소      버섯     느타리버섯   \n",
       "2  2018-01-02  화    1     1  1506656256  정상회원   축산물       알       유정란   \n",
       "3  2018-01-02  화    1     1  1023108864  정상회원    반찬   두부/유부        두부   \n",
       "4  2018-01-02  화    1     1  1476143616  정상회원    간식       빵  식빵, 식사대용   \n",
       "5  2018-01-02  화    1     1   716128320  정상회원   축산물       알       유정란   \n",
       "6  2018-01-02  화    1     1   743192512  정상회원    채소    과일채소        딸기   \n",
       "7  2018-01-02  화    1     1   743192512  정상회원    채소  잎/줄기채소     어린잎채소   \n",
       "8  2018-01-02  화    1     1   743192512  정상회원    채소    양념채소        생강   \n",
       "9  2018-01-02  화    1     1   743192512  정상회원    채소    쌈채소류       쌈케일   \n",
       "\n",
       "                물품명  구매수량 주소-구  주소-동 성별    연령    연령대   구매금액 구매매장  반품_원거래일자  \\\n",
       "0       사과/유(1.5kg)   1.0  수지구  풍덕천동  여  45.0    40대  22207  매장C       NaN   \n",
       "1       느타리버섯(300g)   1.0  수지구  풍덕천동  여  36.0  30대이하   4977  매장C       NaN   \n",
       "2  유정란/매장용(10알/국내산)   1.0  수지구  풍덕천동  여  36.0  30대이하   7083  매장C       NaN   \n",
       "3         연두부(100g)   1.0  수지구  풍덕천동  여  36.0  30대이하    766  매장C       NaN   \n",
       "4   아침빵(240g/8개)/매장   1.0  수지구  풍덕천동  여  34.0  30대이하   4403  매장C       NaN   \n",
       "5  유정란/매장용(10알/국내산)   1.0  수지구  풍덕천동  여  51.0    50대   7083  매장C       NaN   \n",
       "6         딸기/(500g)   1.0  수지구   성복동  여  51.0    50대  17038  매장C       NaN   \n",
       "7       어린잎채소(100g)   2.0  수지구   성복동  여  51.0    50대  11104  매장C       NaN   \n",
       "8          생강(300g)   1.0  수지구   성복동  여  51.0    50대   7083  매장C       NaN   \n",
       "9         쌈케일(150g)   1.0  수지구   성복동  여  51.0    50대   2584  매장C       NaN   \n",
       "\n",
       "    구매시각  \n",
       "0  10:04  \n",
       "1  10:05  \n",
       "2  10:05  \n",
       "3  10:08  \n",
       "4  10:09  \n",
       "5  10:10  \n",
       "6  10:12  \n",
       "7  10:12  \n",
       "8  10:12  \n",
       "9  10:12  "
      ]
     },
     "execution_count": 22,
     "metadata": {},
     "output_type": "execute_result"
    }
   ],
   "source": []
  },
  {
   "cell_type": "code",
   "execution_count": 23,
   "metadata": {
    "collapsed": true
   },
   "outputs": [
    {
     "data": {
      "text/html": [
       "<div>\n",
       "<style scoped>\n",
       "    .dataframe tbody tr th:only-of-type {\n",
       "        vertical-align: middle;\n",
       "    }\n",
       "\n",
       "    .dataframe tbody tr th {\n",
       "        vertical-align: top;\n",
       "    }\n",
       "\n",
       "    .dataframe thead th {\n",
       "        text-align: right;\n",
       "    }\n",
       "</style>\n",
       "<table border=\"1\" class=\"dataframe\">\n",
       "  <thead>\n",
       "    <tr style=\"text-align: right;\">\n",
       "      <th></th>\n",
       "      <th>공급일자</th>\n",
       "      <th>요일</th>\n",
       "      <th>공급월</th>\n",
       "      <th>공급주차</th>\n",
       "      <th>회원번호</th>\n",
       "      <th>조합원상태</th>\n",
       "      <th>물품대분류</th>\n",
       "      <th>물품중분류</th>\n",
       "      <th>물품소분류</th>\n",
       "      <th>물품명</th>\n",
       "      <th>구매수량</th>\n",
       "      <th>주소-구</th>\n",
       "      <th>주소-동</th>\n",
       "      <th>성별</th>\n",
       "      <th>연령</th>\n",
       "      <th>연령대</th>\n",
       "      <th>구매금액</th>\n",
       "      <th>구매매장</th>\n",
       "      <th>반품_원거래일자</th>\n",
       "      <th>구매시각</th>\n",
       "    </tr>\n",
       "  </thead>\n",
       "  <tbody>\n",
       "    <tr>\n",
       "      <th>705561</th>\n",
       "      <td>2018-06-30</td>\n",
       "      <td>토</td>\n",
       "      <td>6</td>\n",
       "      <td>26</td>\n",
       "      <td>1333795840</td>\n",
       "      <td>정상회원</td>\n",
       "      <td>채소</td>\n",
       "      <td>잎/줄기채소</td>\n",
       "      <td>브로컬리</td>\n",
       "      <td>브로컬리(250g)</td>\n",
       "      <td>1.0</td>\n",
       "      <td>수지구</td>\n",
       "      <td>풍덕천동</td>\n",
       "      <td>여</td>\n",
       "      <td>41.0</td>\n",
       "      <td>40대</td>\n",
       "      <td>3982</td>\n",
       "      <td>매장A</td>\n",
       "      <td>NaN</td>\n",
       "      <td>15:28</td>\n",
       "    </tr>\n",
       "    <tr>\n",
       "      <th>705562</th>\n",
       "      <td>2018-06-30</td>\n",
       "      <td>토</td>\n",
       "      <td>6</td>\n",
       "      <td>26</td>\n",
       "      <td>58484416</td>\n",
       "      <td>정상회원</td>\n",
       "      <td>수산</td>\n",
       "      <td>해조</td>\n",
       "      <td>기타해조류</td>\n",
       "      <td>모듬해초(20g)</td>\n",
       "      <td>7.0</td>\n",
       "      <td>수지구</td>\n",
       "      <td>동천동</td>\n",
       "      <td>여</td>\n",
       "      <td>59.0</td>\n",
       "      <td>50대</td>\n",
       "      <td>77725</td>\n",
       "      <td>매장A</td>\n",
       "      <td>NaN</td>\n",
       "      <td>12:04</td>\n",
       "    </tr>\n",
       "    <tr>\n",
       "      <th>705563</th>\n",
       "      <td>2018-06-30</td>\n",
       "      <td>토</td>\n",
       "      <td>6</td>\n",
       "      <td>26</td>\n",
       "      <td>1278913920</td>\n",
       "      <td>정상회원</td>\n",
       "      <td>간식</td>\n",
       "      <td>밀가공</td>\n",
       "      <td>생숙면</td>\n",
       "      <td>우동면(180g/1인분)</td>\n",
       "      <td>3.0</td>\n",
       "      <td>수지구</td>\n",
       "      <td>동천동</td>\n",
       "      <td>여</td>\n",
       "      <td>39.0</td>\n",
       "      <td>30대이하</td>\n",
       "      <td>5743</td>\n",
       "      <td>매장A</td>\n",
       "      <td>NaN</td>\n",
       "      <td>16:43</td>\n",
       "    </tr>\n",
       "    <tr>\n",
       "      <th>705564</th>\n",
       "      <td>2018-06-30</td>\n",
       "      <td>토</td>\n",
       "      <td>6</td>\n",
       "      <td>26</td>\n",
       "      <td>1278913920</td>\n",
       "      <td>정상회원</td>\n",
       "      <td>수산</td>\n",
       "      <td>해조</td>\n",
       "      <td>김</td>\n",
       "      <td>구운김밥김(10장)</td>\n",
       "      <td>1.0</td>\n",
       "      <td>수지구</td>\n",
       "      <td>동천동</td>\n",
       "      <td>여</td>\n",
       "      <td>39.0</td>\n",
       "      <td>30대이하</td>\n",
       "      <td>3446</td>\n",
       "      <td>매장A</td>\n",
       "      <td>NaN</td>\n",
       "      <td>16:43</td>\n",
       "    </tr>\n",
       "    <tr>\n",
       "      <th>705565</th>\n",
       "      <td>2018-06-30</td>\n",
       "      <td>토</td>\n",
       "      <td>6</td>\n",
       "      <td>26</td>\n",
       "      <td>867143616</td>\n",
       "      <td>정상회원</td>\n",
       "      <td>간식</td>\n",
       "      <td>빵</td>\n",
       "      <td>케이크,롤,선물</td>\n",
       "      <td>플레인롤케이크(90g/조각롤)</td>\n",
       "      <td>-1.0</td>\n",
       "      <td>기타</td>\n",
       "      <td>기타</td>\n",
       "      <td>여</td>\n",
       "      <td>60.0</td>\n",
       "      <td>60대</td>\n",
       "      <td>-6126</td>\n",
       "      <td>매장A</td>\n",
       "      <td>20180630.0</td>\n",
       "      <td>15:54</td>\n",
       "    </tr>\n",
       "    <tr>\n",
       "      <th>705566</th>\n",
       "      <td>2018-06-30</td>\n",
       "      <td>토</td>\n",
       "      <td>6</td>\n",
       "      <td>26</td>\n",
       "      <td>146297344</td>\n",
       "      <td>정상회원</td>\n",
       "      <td>수산</td>\n",
       "      <td>건어물</td>\n",
       "      <td>멸치류</td>\n",
       "      <td>국물멸치(300g)</td>\n",
       "      <td>1.0</td>\n",
       "      <td>수지구</td>\n",
       "      <td>성복동</td>\n",
       "      <td>여</td>\n",
       "      <td>51.0</td>\n",
       "      <td>50대</td>\n",
       "      <td>9189</td>\n",
       "      <td>매장A</td>\n",
       "      <td>NaN</td>\n",
       "      <td>17:56</td>\n",
       "    </tr>\n",
       "    <tr>\n",
       "      <th>705567</th>\n",
       "      <td>2018-06-30</td>\n",
       "      <td>토</td>\n",
       "      <td>6</td>\n",
       "      <td>26</td>\n",
       "      <td>1532985472</td>\n",
       "      <td>정상회원</td>\n",
       "      <td>수산</td>\n",
       "      <td>해조</td>\n",
       "      <td>미역/다시마</td>\n",
       "      <td>자른다시마(100g)</td>\n",
       "      <td>1.0</td>\n",
       "      <td>수지구</td>\n",
       "      <td>동천동</td>\n",
       "      <td>여</td>\n",
       "      <td>63.0</td>\n",
       "      <td>60대</td>\n",
       "      <td>5169</td>\n",
       "      <td>매장A</td>\n",
       "      <td>NaN</td>\n",
       "      <td>14:37</td>\n",
       "    </tr>\n",
       "    <tr>\n",
       "      <th>705568</th>\n",
       "      <td>2018-06-30</td>\n",
       "      <td>토</td>\n",
       "      <td>6</td>\n",
       "      <td>26</td>\n",
       "      <td>1532985472</td>\n",
       "      <td>정상회원</td>\n",
       "      <td>반찬</td>\n",
       "      <td>두부/유부</td>\n",
       "      <td>두부</td>\n",
       "      <td>두부(1모:420g)</td>\n",
       "      <td>2.0</td>\n",
       "      <td>수지구</td>\n",
       "      <td>동천동</td>\n",
       "      <td>여</td>\n",
       "      <td>63.0</td>\n",
       "      <td>60대</td>\n",
       "      <td>7466</td>\n",
       "      <td>매장A</td>\n",
       "      <td>NaN</td>\n",
       "      <td>14:37</td>\n",
       "    </tr>\n",
       "    <tr>\n",
       "      <th>705569</th>\n",
       "      <td>2018-06-30</td>\n",
       "      <td>토</td>\n",
       "      <td>6</td>\n",
       "      <td>26</td>\n",
       "      <td>1209779776</td>\n",
       "      <td>정상회원</td>\n",
       "      <td>간식</td>\n",
       "      <td>과자</td>\n",
       "      <td>스낵</td>\n",
       "      <td>하늘바다새우(60g)</td>\n",
       "      <td>1.0</td>\n",
       "      <td>수지구</td>\n",
       "      <td>동천동</td>\n",
       "      <td>여</td>\n",
       "      <td>41.0</td>\n",
       "      <td>40대</td>\n",
       "      <td>3542</td>\n",
       "      <td>매장A</td>\n",
       "      <td>NaN</td>\n",
       "      <td>18:04</td>\n",
       "    </tr>\n",
       "    <tr>\n",
       "      <th>705570</th>\n",
       "      <td>2018-06-30</td>\n",
       "      <td>토</td>\n",
       "      <td>6</td>\n",
       "      <td>26</td>\n",
       "      <td>301961920</td>\n",
       "      <td>정상회원</td>\n",
       "      <td>음료</td>\n",
       "      <td>음료</td>\n",
       "      <td>빙과</td>\n",
       "      <td>포도꽁꽁(120ml)/매장용</td>\n",
       "      <td>1.0</td>\n",
       "      <td>수지구</td>\n",
       "      <td>풍덕천동</td>\n",
       "      <td>여</td>\n",
       "      <td>49.0</td>\n",
       "      <td>40대</td>\n",
       "      <td>1914</td>\n",
       "      <td>매장A</td>\n",
       "      <td>NaN</td>\n",
       "      <td>16:36</td>\n",
       "    </tr>\n",
       "  </tbody>\n",
       "</table>\n",
       "</div>"
      ],
      "text/plain": [
       "              공급일자 요일  공급월  공급주차        회원번호 조합원상태 물품대분류   물품중분류     물품소분류  \\\n",
       "705561  2018-06-30  토    6    26  1333795840  정상회원    채소  잎/줄기채소      브로컬리   \n",
       "705562  2018-06-30  토    6    26    58484416  정상회원    수산      해조     기타해조류   \n",
       "705563  2018-06-30  토    6    26  1278913920  정상회원    간식     밀가공       생숙면   \n",
       "705564  2018-06-30  토    6    26  1278913920  정상회원    수산      해조         김   \n",
       "705565  2018-06-30  토    6    26   867143616  정상회원    간식       빵  케이크,롤,선물   \n",
       "705566  2018-06-30  토    6    26   146297344  정상회원    수산     건어물       멸치류   \n",
       "705567  2018-06-30  토    6    26  1532985472  정상회원    수산      해조    미역/다시마   \n",
       "705568  2018-06-30  토    6    26  1532985472  정상회원    반찬   두부/유부        두부   \n",
       "705569  2018-06-30  토    6    26  1209779776  정상회원    간식      과자        스낵   \n",
       "705570  2018-06-30  토    6    26   301961920  정상회원    음료      음료        빙과   \n",
       "\n",
       "                     물품명  구매수량 주소-구  주소-동 성별    연령    연령대   구매금액 구매매장  \\\n",
       "705561        브로컬리(250g)   1.0  수지구  풍덕천동  여  41.0    40대   3982  매장A   \n",
       "705562         모듬해초(20g)   7.0  수지구   동천동  여  59.0    50대  77725  매장A   \n",
       "705563     우동면(180g/1인분)   3.0  수지구   동천동  여  39.0  30대이하   5743  매장A   \n",
       "705564        구운김밥김(10장)   1.0  수지구   동천동  여  39.0  30대이하   3446  매장A   \n",
       "705565  플레인롤케이크(90g/조각롤)  -1.0   기타    기타  여  60.0    60대  -6126  매장A   \n",
       "705566        국물멸치(300g)   1.0  수지구   성복동  여  51.0    50대   9189  매장A   \n",
       "705567       자른다시마(100g)   1.0  수지구   동천동  여  63.0    60대   5169  매장A   \n",
       "705568       두부(1모:420g)   2.0  수지구   동천동  여  63.0    60대   7466  매장A   \n",
       "705569       하늘바다새우(60g)   1.0  수지구   동천동  여  41.0    40대   3542  매장A   \n",
       "705570   포도꽁꽁(120ml)/매장용   1.0  수지구  풍덕천동  여  49.0    40대   1914  매장A   \n",
       "\n",
       "          반품_원거래일자   구매시각  \n",
       "705561         NaN  15:28  \n",
       "705562         NaN  12:04  \n",
       "705563         NaN  16:43  \n",
       "705564         NaN  16:43  \n",
       "705565  20180630.0  15:54  \n",
       "705566         NaN  17:56  \n",
       "705567         NaN  14:37  \n",
       "705568         NaN  14:37  \n",
       "705569         NaN  18:04  \n",
       "705570         NaN  16:36  "
      ]
     },
     "execution_count": 23,
     "metadata": {},
     "output_type": "execute_result"
    }
   ],
   "source": []
  },
  {
   "cell_type": "markdown",
   "metadata": {},
   "source": [
    "Q2. 예제 데이터의 '물품대분류'의 카테고리 수와 '물품대분류'에 따른 '구매금액'의 합을 Pivot table을 이용해 구하기"
   ]
  },
  {
   "cell_type": "code",
   "execution_count": 24,
   "metadata": {
    "collapsed": true
   },
   "outputs": [
    {
     "data": {
      "text/html": [
       "<div>\n",
       "<style scoped>\n",
       "    .dataframe tbody tr th:only-of-type {\n",
       "        vertical-align: middle;\n",
       "    }\n",
       "\n",
       "    .dataframe tbody tr th {\n",
       "        vertical-align: top;\n",
       "    }\n",
       "\n",
       "    .dataframe thead th {\n",
       "        text-align: right;\n",
       "    }\n",
       "</style>\n",
       "<table border=\"1\" class=\"dataframe\">\n",
       "  <thead>\n",
       "    <tr style=\"text-align: right;\">\n",
       "      <th></th>\n",
       "      <th>구매금액</th>\n",
       "    </tr>\n",
       "    <tr>\n",
       "      <th>물품대분류</th>\n",
       "      <th></th>\n",
       "    </tr>\n",
       "  </thead>\n",
       "  <tbody>\n",
       "    <tr>\n",
       "      <th>간식</th>\n",
       "      <td>852448921</td>\n",
       "    </tr>\n",
       "    <tr>\n",
       "      <th>건강</th>\n",
       "      <td>373355801</td>\n",
       "    </tr>\n",
       "    <tr>\n",
       "      <th>과실</th>\n",
       "      <td>403550424</td>\n",
       "    </tr>\n",
       "    <tr>\n",
       "      <th>기타</th>\n",
       "      <td>0</td>\n",
       "    </tr>\n",
       "    <tr>\n",
       "      <th>반찬</th>\n",
       "      <td>528800608</td>\n",
       "    </tr>\n",
       "    <tr>\n",
       "      <th>생활용품</th>\n",
       "      <td>412590453</td>\n",
       "    </tr>\n",
       "    <tr>\n",
       "      <th>서류</th>\n",
       "      <td>80328779</td>\n",
       "    </tr>\n",
       "    <tr>\n",
       "      <th>수산</th>\n",
       "      <td>681997211</td>\n",
       "    </tr>\n",
       "    <tr>\n",
       "      <th>양념/가루</th>\n",
       "      <td>498166382</td>\n",
       "    </tr>\n",
       "    <tr>\n",
       "      <th>음료</th>\n",
       "      <td>347080915</td>\n",
       "    </tr>\n",
       "    <tr>\n",
       "      <th>잡곡</th>\n",
       "      <td>138466267</td>\n",
       "    </tr>\n",
       "    <tr>\n",
       "      <th>주곡</th>\n",
       "      <td>270213790</td>\n",
       "    </tr>\n",
       "    <tr>\n",
       "      <th>주류</th>\n",
       "      <td>14800659</td>\n",
       "    </tr>\n",
       "    <tr>\n",
       "      <th>채소</th>\n",
       "      <td>1049792331</td>\n",
       "    </tr>\n",
       "    <tr>\n",
       "      <th>축산물</th>\n",
       "      <td>2053269649</td>\n",
       "    </tr>\n",
       "  </tbody>\n",
       "</table>\n",
       "</div>"
      ],
      "text/plain": [
       "             구매금액\n",
       "물품대분류            \n",
       "간식      852448921\n",
       "건강      373355801\n",
       "과실      403550424\n",
       "기타              0\n",
       "반찬      528800608\n",
       "생활용품    412590453\n",
       "서류       80328779\n",
       "수산      681997211\n",
       "양념/가루   498166382\n",
       "음료      347080915\n",
       "잡곡      138466267\n",
       "주곡      270213790\n",
       "주류       14800659\n",
       "채소     1049792331\n",
       "축산물    2053269649"
      ]
     },
     "execution_count": 24,
     "metadata": {},
     "output_type": "execute_result"
    }
   ],
   "source": []
  },
  {
   "cell_type": "markdown",
   "metadata": {},
   "source": [
    "Q3. 예제 데이터의 성별을 1과 0으로 라벨 처리 하기.(남성=1, 여성=0)"
   ]
  },
  {
   "cell_type": "code",
   "execution_count": 26,
   "metadata": {
    "collapsed": true
   },
   "outputs": [
    {
     "data": {
      "text/html": [
       "<div>\n",
       "<style scoped>\n",
       "    .dataframe tbody tr th:only-of-type {\n",
       "        vertical-align: middle;\n",
       "    }\n",
       "\n",
       "    .dataframe tbody tr th {\n",
       "        vertical-align: top;\n",
       "    }\n",
       "\n",
       "    .dataframe thead th {\n",
       "        text-align: right;\n",
       "    }\n",
       "</style>\n",
       "<table border=\"1\" class=\"dataframe\">\n",
       "  <thead>\n",
       "    <tr style=\"text-align: right;\">\n",
       "      <th></th>\n",
       "      <th>성별(label)</th>\n",
       "      <th>성별</th>\n",
       "    </tr>\n",
       "  </thead>\n",
       "  <tbody>\n",
       "    <tr>\n",
       "      <th>0</th>\n",
       "      <td>0.0</td>\n",
       "      <td>여</td>\n",
       "    </tr>\n",
       "    <tr>\n",
       "      <th>1</th>\n",
       "      <td>0.0</td>\n",
       "      <td>여</td>\n",
       "    </tr>\n",
       "    <tr>\n",
       "      <th>2</th>\n",
       "      <td>0.0</td>\n",
       "      <td>여</td>\n",
       "    </tr>\n",
       "    <tr>\n",
       "      <th>3</th>\n",
       "      <td>0.0</td>\n",
       "      <td>여</td>\n",
       "    </tr>\n",
       "    <tr>\n",
       "      <th>4</th>\n",
       "      <td>0.0</td>\n",
       "      <td>여</td>\n",
       "    </tr>\n",
       "  </tbody>\n",
       "</table>\n",
       "</div>"
      ],
      "text/plain": [
       "   성별(label) 성별\n",
       "0        0.0  여\n",
       "1        0.0  여\n",
       "2        0.0  여\n",
       "3        0.0  여\n",
       "4        0.0  여"
      ]
     },
     "execution_count": 26,
     "metadata": {},
     "output_type": "execute_result"
    }
   ],
   "source": []
  },
  {
   "cell_type": "markdown",
   "metadata": {},
   "source": [
    "Q4. 예제 데이터에서 '요일'별로 '물품대분류'의 '구매금액'의 합을 계산하고, 판매량이 가장 높은 요일과 해당 요일에 가장 많이 판매된 품목을 확인하기"
   ]
  },
  {
   "cell_type": "code",
   "execution_count": 30,
   "metadata": {},
   "outputs": [
    {
     "data": {
      "text/html": [
       "<div>\n",
       "<style scoped>\n",
       "    .dataframe tbody tr th:only-of-type {\n",
       "        vertical-align: middle;\n",
       "    }\n",
       "\n",
       "    .dataframe tbody tr th {\n",
       "        vertical-align: top;\n",
       "    }\n",
       "\n",
       "    .dataframe thead th {\n",
       "        text-align: right;\n",
       "    }\n",
       "</style>\n",
       "<table border=\"1\" class=\"dataframe\">\n",
       "  <thead>\n",
       "    <tr style=\"text-align: right;\">\n",
       "      <th></th>\n",
       "      <th>요일</th>\n",
       "      <th>물품대분류</th>\n",
       "      <th>구매금액</th>\n",
       "    </tr>\n",
       "  </thead>\n",
       "  <tbody>\n",
       "    <tr>\n",
       "      <th>59</th>\n",
       "      <td>월</td>\n",
       "      <td>축산물</td>\n",
       "      <td>345343132</td>\n",
       "    </tr>\n",
       "    <tr>\n",
       "      <th>14</th>\n",
       "      <td>금</td>\n",
       "      <td>축산물</td>\n",
       "      <td>335868647</td>\n",
       "    </tr>\n",
       "    <tr>\n",
       "      <th>104</th>\n",
       "      <td>화</td>\n",
       "      <td>축산물</td>\n",
       "      <td>319417282</td>\n",
       "    </tr>\n",
       "    <tr>\n",
       "      <th>44</th>\n",
       "      <td>수</td>\n",
       "      <td>축산물</td>\n",
       "      <td>301478654</td>\n",
       "    </tr>\n",
       "    <tr>\n",
       "      <th>29</th>\n",
       "      <td>목</td>\n",
       "      <td>축산물</td>\n",
       "      <td>299340046</td>\n",
       "    </tr>\n",
       "  </tbody>\n",
       "</table>\n",
       "</div>"
      ],
      "text/plain": [
       "    요일 물품대분류       구매금액\n",
       "59   월   축산물  345343132\n",
       "14   금   축산물  335868647\n",
       "104  화   축산물  319417282\n",
       "44   수   축산물  301478654\n",
       "29   목   축산물  299340046"
      ]
     },
     "execution_count": 30,
     "metadata": {},
     "output_type": "execute_result"
    }
   ],
   "source": []
  },
  {
   "cell_type": "markdown",
   "metadata": {},
   "source": [
    "Q5. 예제 데이터에서 일자별로 '구매금액'의 총합을 계산하고, 가장 적게 팔린 날을 확인하기"
   ]
  },
  {
   "cell_type": "code",
   "execution_count": 31,
   "metadata": {},
   "outputs": [
    {
     "data": {
      "text/html": [
       "<div>\n",
       "<style scoped>\n",
       "    .dataframe tbody tr th:only-of-type {\n",
       "        vertical-align: middle;\n",
       "    }\n",
       "\n",
       "    .dataframe tbody tr th {\n",
       "        vertical-align: top;\n",
       "    }\n",
       "\n",
       "    .dataframe thead th {\n",
       "        text-align: right;\n",
       "    }\n",
       "</style>\n",
       "<table border=\"1\" class=\"dataframe\">\n",
       "  <thead>\n",
       "    <tr style=\"text-align: right;\">\n",
       "      <th></th>\n",
       "      <th>구매금액</th>\n",
       "    </tr>\n",
       "    <tr>\n",
       "      <th>공급일자</th>\n",
       "      <th></th>\n",
       "    </tr>\n",
       "  </thead>\n",
       "  <tbody>\n",
       "    <tr>\n",
       "      <th>2018-03-18</th>\n",
       "      <td>20817585</td>\n",
       "    </tr>\n",
       "    <tr>\n",
       "      <th>2018-06-17</th>\n",
       "      <td>21340313</td>\n",
       "    </tr>\n",
       "    <tr>\n",
       "      <th>2018-04-01</th>\n",
       "      <td>21490639</td>\n",
       "    </tr>\n",
       "    <tr>\n",
       "      <th>2018-04-29</th>\n",
       "      <td>21638861</td>\n",
       "    </tr>\n",
       "    <tr>\n",
       "      <th>2018-04-15</th>\n",
       "      <td>21877349</td>\n",
       "    </tr>\n",
       "  </tbody>\n",
       "</table>\n",
       "</div>"
      ],
      "text/plain": [
       "                구매금액\n",
       "공급일자                \n",
       "2018-03-18  20817585\n",
       "2018-06-17  21340313\n",
       "2018-04-01  21490639\n",
       "2018-04-29  21638861\n",
       "2018-04-15  21877349"
      ]
     },
     "execution_count": 31,
     "metadata": {},
     "output_type": "execute_result"
    }
   ],
   "source": []
  },
  {
   "cell_type": "markdown",
   "metadata": {},
   "source": [
    "Q6. 예제 데이터의 '성별'에 따른 '연령'을 Box Plot 하기 (PASS)"
   ]
  },
  {
   "cell_type": "code",
   "execution_count": 33,
   "metadata": {
    "collapsed": true
   },
   "outputs": [
    {
     "data": {
      "text/plain": [
       "<AxesSubplot:xlabel='성별', ylabel='연령'>"
      ]
     },
     "execution_count": 33,
     "metadata": {},
     "output_type": "execute_result"
    },
    {
     "data": {
      "image/png": "[encoded data removed]",
      "text/plain": [
       "<Figure size 720x720 with 1 Axes>"
      ]
     },
     "metadata": {
      "image/png": {
       "height": 590,
       "width": 610
      },
      "needs_background": "light"
     },
     "output_type": "display_data"
    }
   ],
   "source": []
  },
  {
   "cell_type": "markdown",
   "metadata": {},
   "source": [
    "Q7. 예제 데이터의 '구매금액'에 대한 요약통계량을 확인하고, 25-75% 사이의 데이터를 추출하고 그 데이터로 Dist plot 생성하기  \n",
    "(추출하는 것까지만 진행할 것)"
   ]
  },
  {
   "cell_type": "code",
   "execution_count": 34,
   "metadata": {},
   "outputs": [
    {
     "data": {
      "text/plain": [
       "count    7.055710e+05\n",
       "mean     1.092004e+04\n",
       "std      1.670323e+04\n",
       "min     -6.662160e+05\n",
       "25%      4.116000e+03\n",
       "50%      7.275000e+03\n",
       "75%      1.263500e+04\n",
       "max      2.751014e+06\n",
       "Name: 구매금액, dtype: float64"
      ]
     },
     "execution_count": 34,
     "metadata": {},
     "output_type": "execute_result"
    }
   ],
   "source": []
  },
  {
   "cell_type": "code",
   "execution_count": 35,
   "metadata": {},
   "outputs": [
    {
     "name": "stderr",
     "output_type": "stream",
     "text": [
      "C:\\Users\\USER\\anaconda3\\lib\\site-packages\\seaborn\\distributions.py:2551: FutureWarning: `distplot` is a deprecated function and will be removed in a future version. Please adapt your code to use either `displot` (a figure-level function with similar flexibility) or `histplot` (an axes-level function for histograms).\n",
      "  warnings.warn(msg, FutureWarning)\n"
     ]
    },
    {
     "data": {
      "text/plain": [
       "<AxesSubplot:xlabel='구매금액', ylabel='Density'>"
      ]
     },
     "execution_count": 35,
     "metadata": {},
     "output_type": "execute_result"
    },
    {
     "data": {
      "image/png": "[encoded data removed]",
      "text/plain": [
       "<Figure size 432x288 with 1 Axes>"
      ]
     },
     "metadata": {
      "image/png": {
       "height": 263,
       "width": 405
      },
      "needs_background": "light"
     },
     "output_type": "display_data"
    }
   ],
   "source": []
  },
  {
   "cell_type": "markdown",
   "metadata": {},
   "source": [
    "Q8. 예제 데이터의 구매시각에서 시간 단위만 추출하여, 새로운 Column을 만들고, 시간에 따른 구매금액의 합을 Pivot table로 구하기.  \n",
    "    더불어, '시간'에 따른 '구매금액'을 Bar plot 해보기 (Bar Plot 전까지 진행해주세요)"
   ]
  },
  {
   "cell_type": "code",
   "execution_count": 38,
   "metadata": {},
   "outputs": [
    {
     "data": {
      "text/plain": [
       "<AxesSubplot:xlabel='시간대', ylabel='구매금액'>"
      ]
     },
     "execution_count": 38,
     "metadata": {},
     "output_type": "execute_result"
    },
    {
     "data": {
      "image/png": "[encoded data removed]",
      "text/plain": [
       "<Figure size 432x288 with 1 Axes>"
      ]
     },
     "metadata": {
      "image/png": {
       "height": 274,
       "width": 376
      },
      "needs_background": "light"
     },
     "output_type": "display_data"
    }
   ],
   "source": []
  },
  {
   "cell_type": "code",
   "execution_count": null,
   "metadata": {},
   "outputs": [],
   "source": []
  }
 ],
 "metadata": {
  "kernelspec": {
   "display_name": "Python 3",
   "language": "python",
   "name": "python3"
  },
  "language_info": {
   "codemirror_mode": {
    "name": "ipython",
    "version": 3
   },
   "file_extension": ".py",
   "mimetype": "text/x-python",
   "name": "python",
   "nbconvert_exporter": "python",
   "pygments_lexer": "ipython3",
   "version": "3.8.5"
  }
 },
 "nbformat": 4,
 "nbformat_minor": 4
}
